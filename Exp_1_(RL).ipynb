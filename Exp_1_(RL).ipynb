{
  "nbformat": 4,
  "nbformat_minor": 0,
  "metadata": {
    "colab": {
      "provenance": [],
      "authorship_tag": "ABX9TyOYvkex4XHN2kmxbH+g5Wd+",
      "include_colab_link": true
    },
    "kernelspec": {
      "name": "python3",
      "display_name": "Python 3"
    },
    "language_info": {
      "name": "python"
    }
  },
  "cells": [
    {
      "cell_type": "markdown",
      "metadata": {
        "id": "view-in-github",
        "colab_type": "text"
      },
      "source": [
        "<a href=\"https://colab.research.google.com/github/kritibhardwaj23/kriti/blob/main/Exp_1_(RL).ipynb\" target=\"_parent\"><img src=\"https://colab.research.google.com/assets/colab-badge.svg\" alt=\"Open In Colab\"/></a>"
      ]
    },
    {
      "cell_type": "code",
      "execution_count": 1,
      "metadata": {
        "colab": {
          "base_uri": "https://localhost:8080/"
        },
        "id": "P-O3azsFqW0O",
        "outputId": "6e7fcb2d-b80e-40fd-c97f-3f5ef7d16e3c"
      },
      "outputs": [
        {
          "output_type": "stream",
          "name": "stdout",
          "text": [
            "Python 3.10.12\n"
          ]
        }
      ],
      "source": [
        "!python --version"
      ]
    },
    {
      "cell_type": "code",
      "source": [
        "def quicksort(arr):\n",
        "  if len(arr)<=1:\n",
        "    return arr\n",
        "  pivot = arr[len(arr)//2]\n",
        "  left=[x for x in arr if x<pivot]\n",
        "  middle=[x for x in arr if x==pivot]\n",
        "  right=[x for x in arr if x>pivot]\n",
        "  return quicksort(left)+middle+quicksort(right)\n",
        "\n",
        "print(quicksort([20,50,14,80,3,10]))\n"
      ],
      "metadata": {
        "colab": {
          "base_uri": "https://localhost:8080/"
        },
        "id": "mRR8Uik7sQgC",
        "outputId": "1aaf339e-3f54-40dc-bcfe-fe82d570ceb8"
      },
      "execution_count": 21,
      "outputs": [
        {
          "output_type": "stream",
          "name": "stdout",
          "text": [
            "[3, 10, 14, 20, 50, 80]\n"
          ]
        }
      ]
    },
    {
      "cell_type": "code",
      "source": [
        "2/4 #returns float value"
      ],
      "metadata": {
        "colab": {
          "base_uri": "https://localhost:8080/"
        },
        "id": "LHeWR_zrtwH8",
        "outputId": "b37cdc23-a0d9-4229-ef85-953f2c06a477"
      },
      "execution_count": 16,
      "outputs": [
        {
          "output_type": "execute_result",
          "data": {
            "text/plain": [
              "0.5"
            ]
          },
          "metadata": {},
          "execution_count": 16
        }
      ]
    },
    {
      "cell_type": "code",
      "source": [
        "x=3\n",
        "print(x,type(x))"
      ],
      "metadata": {
        "colab": {
          "base_uri": "https://localhost:8080/"
        },
        "id": "CG5bS_qEuY82",
        "outputId": "1d216f30-3597-4c54-cb3c-a98eb393fd8e"
      },
      "execution_count": 22,
      "outputs": [
        {
          "output_type": "stream",
          "name": "stdout",
          "text": [
            "3 <class 'int'>\n"
          ]
        }
      ]
    },
    {
      "cell_type": "code",
      "source": [
        "2//4  #returns integer value"
      ],
      "metadata": {
        "colab": {
          "base_uri": "https://localhost:8080/"
        },
        "id": "f54qLGuXtx9g",
        "outputId": "59cb87da-ed99-4957-f20e-a1ff314f4ddd"
      },
      "execution_count": 19,
      "outputs": [
        {
          "output_type": "execute_result",
          "data": {
            "text/plain": [
              "0"
            ]
          },
          "metadata": {},
          "execution_count": 19
        }
      ]
    },
    {
      "cell_type": "code",
      "source": [
        "print(x+1)\n",
        "print(x-1)\n",
        "print(x*2)\n",
        "print(x**2)\n"
      ],
      "metadata": {
        "colab": {
          "base_uri": "https://localhost:8080/"
        },
        "id": "Sewz22VzufdF",
        "outputId": "2e69f078-4e61-4524-dbe2-81d2ad3753fd"
      },
      "execution_count": 23,
      "outputs": [
        {
          "output_type": "stream",
          "name": "stdout",
          "text": [
            "4\n",
            "2\n",
            "6\n",
            "9\n"
          ]
        }
      ]
    },
    {
      "cell_type": "code",
      "source": [
        "x+=1\n",
        "print(x)\n",
        "x*=2\n",
        "print(x)"
      ],
      "metadata": {
        "colab": {
          "base_uri": "https://localhost:8080/"
        },
        "id": "sXIZARPPvP7g",
        "outputId": "a3d297d3-6bc7-4c3a-801d-cd170a078cf3"
      },
      "execution_count": 28,
      "outputs": [
        {
          "output_type": "stream",
          "name": "stdout",
          "text": [
            "24\n"
          ]
        }
      ]
    },
    {
      "cell_type": "code",
      "source": [
        "y=2.5\n",
        "print(type(y))\n",
        "print(y,y+1,y*2,y**2)"
      ],
      "metadata": {
        "colab": {
          "base_uri": "https://localhost:8080/"
        },
        "id": "c1iYM2bpwGcR",
        "outputId": "fbcd40a3-e7f9-4a04-ea25-3bee683a2ca5"
      },
      "execution_count": 29,
      "outputs": [
        {
          "output_type": "stream",
          "name": "stdout",
          "text": [
            "<class 'float'>\n",
            "2.5 3.5 5.0 6.25\n"
          ]
        }
      ]
    },
    {
      "cell_type": "code",
      "source": [
        "a=12345\n",
        "print(type(a))"
      ],
      "metadata": {
        "colab": {
          "base_uri": "https://localhost:8080/"
        },
        "id": "OyZW1daMwQly",
        "outputId": "a9730005-2f21-427c-840e-6002b14d833f"
      },
      "execution_count": 30,
      "outputs": [
        {
          "output_type": "stream",
          "name": "stdout",
          "text": [
            "<class 'int'>\n"
          ]
        }
      ]
    },
    {
      "cell_type": "code",
      "source": [
        "b=123.45\n",
        "print(type(b))"
      ],
      "metadata": {
        "colab": {
          "base_uri": "https://localhost:8080/"
        },
        "id": "B81ObveVwQzZ",
        "outputId": "e5f9ee14-4132-4abd-c836-7c0e73f425e7"
      },
      "execution_count": 31,
      "outputs": [
        {
          "output_type": "stream",
          "name": "stdout",
          "text": [
            "<class 'float'>\n"
          ]
        }
      ]
    },
    {
      "cell_type": "code",
      "source": [
        "c=9999999999.99999999\n",
        "print(type(c))"
      ],
      "metadata": {
        "colab": {
          "base_uri": "https://localhost:8080/"
        },
        "id": "WjhRDQ2hwcNK",
        "outputId": "189b1e0a-943d-4f3c-b1a0-906a072c9b5e"
      },
      "execution_count": 32,
      "outputs": [
        {
          "output_type": "stream",
          "name": "stdout",
          "text": [
            "<class 'float'>\n"
          ]
        }
      ]
    },
    {
      "cell_type": "code",
      "source": [
        "t,f=True,False\n",
        "print(type(t))"
      ],
      "metadata": {
        "colab": {
          "base_uri": "https://localhost:8080/"
        },
        "id": "OEb1unvLwhdV",
        "outputId": "b3c2f241-d4aa-4f14-85fd-cb47f017d5b9"
      },
      "execution_count": 33,
      "outputs": [
        {
          "output_type": "stream",
          "name": "stdout",
          "text": [
            "<class 'bool'>\n"
          ]
        }
      ]
    },
    {
      "cell_type": "code",
      "source": [
        "print(t and f)\n",
        "print(t or f)\n",
        "print(not t)\n",
        "print(t!=f)"
      ],
      "metadata": {
        "colab": {
          "base_uri": "https://localhost:8080/"
        },
        "id": "EiSBH9y1w7lI",
        "outputId": "46894ab2-a7c3-40e3-b6e1-ebe29d9c611f"
      },
      "execution_count": 34,
      "outputs": [
        {
          "output_type": "stream",
          "name": "stdout",
          "text": [
            "False\n",
            "True\n",
            "False\n",
            "True\n"
          ]
        }
      ]
    },
    {
      "cell_type": "code",
      "source": [
        "s1='hello'\n",
        "s2=\"world\"\n",
        "print(s1, len(s2))"
      ],
      "metadata": {
        "colab": {
          "base_uri": "https://localhost:8080/"
        },
        "id": "CLCSM6aOxnpe",
        "outputId": "63104be0-2761-48f5-90a6-442bb6e5e216"
      },
      "execution_count": 36,
      "outputs": [
        {
          "output_type": "stream",
          "name": "stdout",
          "text": [
            "hello 5\n"
          ]
        }
      ]
    },
    {
      "cell_type": "code",
      "source": [
        "fn='Kriti'\n",
        "ln='Bhardwaj'\n",
        "name=fn + ' '+ ln\n",
        "print(name)"
      ],
      "metadata": {
        "colab": {
          "base_uri": "https://localhost:8080/"
        },
        "id": "Y2Vawdzmxn25",
        "outputId": "8d669aac-0cc0-4ad8-9a8d-ca6bac733346"
      },
      "execution_count": 37,
      "outputs": [
        {
          "output_type": "stream",
          "name": "stdout",
          "text": [
            "Kriti Bhardwaj\n"
          ]
        }
      ]
    },
    {
      "cell_type": "code",
      "source": [
        "print(len(name))"
      ],
      "metadata": {
        "colab": {
          "base_uri": "https://localhost:8080/"
        },
        "id": "VLIco3aKxn_q",
        "outputId": "8d836752-4792-41a8-ca32-105caa0aafc1"
      },
      "execution_count": 38,
      "outputs": [
        {
          "output_type": "stream",
          "name": "stdout",
          "text": [
            "14\n"
          ]
        }
      ]
    },
    {
      "cell_type": "code",
      "source": [
        "hw12='{} {} {}'.format('hello','world',12)\n",
        "print(hw12)"
      ],
      "metadata": {
        "colab": {
          "base_uri": "https://localhost:8080/"
        },
        "id": "JjdOsAXuzSa9",
        "outputId": "5adb1424-50a7-4b92-8fe8-7dcc941906db"
      },
      "execution_count": 40,
      "outputs": [
        {
          "output_type": "stream",
          "name": "stdout",
          "text": [
            "hello world 12\n"
          ]
        }
      ]
    },
    {
      "cell_type": "code",
      "source": [
        "s='{} {}'.format(fn,ln)\n",
        "print(s)"
      ],
      "metadata": {
        "colab": {
          "base_uri": "https://localhost:8080/"
        },
        "id": "I83g87D8zSlw",
        "outputId": "822ec6fa-57ec-418b-bfd4-53e7fe0d7e14"
      },
      "execution_count": 41,
      "outputs": [
        {
          "output_type": "stream",
          "name": "stdout",
          "text": [
            "Kriti Bhardwaj\n"
          ]
        }
      ]
    },
    {
      "cell_type": "code",
      "source": [
        "b='{} {}'.format('Isha','Kapoor')\n",
        "print(b)\n",
        "print(len(b))"
      ],
      "metadata": {
        "colab": {
          "base_uri": "https://localhost:8080/"
        },
        "id": "O0xvmbW8zSu9",
        "outputId": "c9e21f80-212e-4abd-afae-1eff089a0920"
      },
      "execution_count": 43,
      "outputs": [
        {
          "output_type": "stream",
          "name": "stdout",
          "text": [
            "Isha Kapoor\n",
            "11\n"
          ]
        }
      ]
    },
    {
      "cell_type": "code",
      "source": [
        "s='hello'\n",
        "print(s.capitalize())  #capitalize a string\n",
        "print(s.upper())    #uppercase\n",
        "print(s.rjust(20))   #right justify a string\n",
        "print(s.center(15))    #centre a string, padding with spaces\n",
        "print(s.replace('l','(ell)'))\n",
        "print(s+' world'.strip())  #strip leading and trailing whitespace"
      ],
      "metadata": {
        "colab": {
          "base_uri": "https://localhost:8080/"
        },
        "id": "KbtQTZny0voT",
        "outputId": "080147cf-8a49-439b-ad27-de78e8c9bbae"
      },
      "execution_count": 57,
      "outputs": [
        {
          "output_type": "stream",
          "name": "stdout",
          "text": [
            "Hello\n",
            "HELLO\n",
            "               hello\n",
            "     hello     \n",
            "he(ell)(ell)o\n",
            "helloworld\n"
          ]
        }
      ]
    },
    {
      "cell_type": "code",
      "source": [],
      "metadata": {
        "id": "CwoVZMRR5R1Z"
      },
      "execution_count": null,
      "outputs": []
    },
    {
      "cell_type": "code",
      "source": [
        "print(s.rjust(7))"
      ],
      "metadata": {
        "colab": {
          "base_uri": "https://localhost:8080/"
        },
        "id": "TDxQyHV80v7J",
        "outputId": "34701351-0f02-4340-8c04-d72c0636dbdf"
      },
      "execution_count": 45,
      "outputs": [
        {
          "output_type": "stream",
          "name": "stdout",
          "text": [
            "  hello\n"
          ]
        }
      ]
    },
    {
      "cell_type": "code",
      "source": [
        "a='machine learning'\n",
        "print(a.capitalize())\n",
        "print(a.title())\n",
        "print(a.upper())"
      ],
      "metadata": {
        "colab": {
          "base_uri": "https://localhost:8080/"
        },
        "id": "Ek_a8Lip0v-8",
        "outputId": "50d1bb89-00db-4894-a0a9-f1d64759d753"
      },
      "execution_count": 54,
      "outputs": [
        {
          "output_type": "stream",
          "name": "stdout",
          "text": [
            "Machine learning\n",
            "Machine Learning\n",
            "MACHINE LEARNING\n"
          ]
        }
      ]
    },
    {
      "cell_type": "code",
      "source": [
        "xs=[3,1,2]\n",
        "print(xs,xs[2])"
      ],
      "metadata": {
        "colab": {
          "base_uri": "https://localhost:8080/"
        },
        "id": "sZUqUlU_5Stz",
        "outputId": "47985abb-c95c-4ff2-c4af-8591ca491041"
      },
      "execution_count": 58,
      "outputs": [
        {
          "output_type": "stream",
          "name": "stdout",
          "text": [
            "[3, 1, 2] 2\n"
          ]
        }
      ]
    },
    {
      "cell_type": "code",
      "source": [
        "xs[-1]"
      ],
      "metadata": {
        "colab": {
          "base_uri": "https://localhost:8080/"
        },
        "id": "FYebkxet5bB1",
        "outputId": "cb923cab-97eb-42c9-a99d-a2dcdc460c0e"
      },
      "execution_count": 59,
      "outputs": [
        {
          "output_type": "execute_result",
          "data": {
            "text/plain": [
              "2"
            ]
          },
          "metadata": {},
          "execution_count": 59
        }
      ]
    },
    {
      "cell_type": "code",
      "source": [
        "xs[2]='foo'\n",
        "print(xs)"
      ],
      "metadata": {
        "colab": {
          "base_uri": "https://localhost:8080/"
        },
        "id": "Dul0nAgm5bHr",
        "outputId": "7080ff05-8efe-472a-f689-f0b8755e1237"
      },
      "execution_count": 60,
      "outputs": [
        {
          "output_type": "stream",
          "name": "stdout",
          "text": [
            "[3, 1, 'foo']\n"
          ]
        }
      ]
    },
    {
      "cell_type": "code",
      "source": [
        "xs.append('bar')\n",
        "print(xs)"
      ],
      "metadata": {
        "colab": {
          "base_uri": "https://localhost:8080/"
        },
        "id": "NQ88Jtwf5bJg",
        "outputId": "db8a31f7-cc93-4170-9f6d-a311cb3ac6ac"
      },
      "execution_count": 61,
      "outputs": [
        {
          "output_type": "stream",
          "name": "stdout",
          "text": [
            "[3, 1, 'foo', 'bar']\n"
          ]
        }
      ]
    },
    {
      "cell_type": "code",
      "source": [
        "x=xs.pop()\n",
        "print(x,xs)"
      ],
      "metadata": {
        "colab": {
          "base_uri": "https://localhost:8080/"
        },
        "id": "TzTASpKg5bM_",
        "outputId": "f710d4f4-b12f-4fae-eeb4-6240056bee85"
      },
      "execution_count": 62,
      "outputs": [
        {
          "output_type": "stream",
          "name": "stdout",
          "text": [
            "bar [3, 1, 'foo']\n"
          ]
        }
      ]
    },
    {
      "cell_type": "code",
      "source": [
        "nums=list(range(5))\n",
        "print(nums)"
      ],
      "metadata": {
        "colab": {
          "base_uri": "https://localhost:8080/"
        },
        "id": "hdB_x2od57yQ",
        "outputId": "d07fe5d9-a29c-44cc-f777-a079a75e9112"
      },
      "execution_count": 64,
      "outputs": [
        {
          "output_type": "stream",
          "name": "stdout",
          "text": [
            "[0, 1, 2, 3, 4]\n"
          ]
        }
      ]
    },
    {
      "cell_type": "code",
      "source": [
        "print(nums[2:4])\n",
        "print(nums[2:])\n",
        "print(nums[:])\n",
        "print(nums[ :-1])\n",
        "nums[2:4]=[8,9]  #assign new sublist to a slice\n",
        "print(nums)"
      ],
      "metadata": {
        "colab": {
          "base_uri": "https://localhost:8080/"
        },
        "id": "KePSAjK3570e",
        "outputId": "b94d53d8-19c4-4aae-e28a-a52c027c47e5"
      },
      "execution_count": 65,
      "outputs": [
        {
          "output_type": "stream",
          "name": "stdout",
          "text": [
            "[2, 3]\n",
            "[2, 3, 4]\n",
            "[0, 1, 2, 3, 4]\n",
            "[0, 1, 2, 3]\n",
            "[0, 1, 8, 9, 4]\n"
          ]
        }
      ]
    },
    {
      "cell_type": "code",
      "source": [
        "animals=['cat','dog','monkey']\n",
        "for x in animals:\n",
        "  print(x)"
      ],
      "metadata": {
        "colab": {
          "base_uri": "https://localhost:8080/"
        },
        "id": "FdMq1FSe573C",
        "outputId": "8079bdb0-43eb-4ee7-d297-cc11ccdb0eea"
      },
      "execution_count": 67,
      "outputs": [
        {
          "output_type": "stream",
          "name": "stdout",
          "text": [
            "cat\n",
            "dog\n",
            "monkey\n"
          ]
        }
      ]
    },
    {
      "cell_type": "code",
      "source": [
        "aniamls=['cat','dog','monkey']\n",
        "for idx, animal in enumerate(animals):  #enumerate - increment\n",
        "  print('#{}:{}'.format(idx+1,animal))"
      ],
      "metadata": {
        "colab": {
          "base_uri": "https://localhost:8080/"
        },
        "id": "OgFpf9yy575Z",
        "outputId": "5dea2d8b-a712-4ecc-c45a-8ac5207a136f"
      },
      "execution_count": 68,
      "outputs": [
        {
          "output_type": "stream",
          "name": "stdout",
          "text": [
            "#1:cat\n",
            "#2:dog\n",
            "#3:monkey\n"
          ]
        }
      ]
    },
    {
      "cell_type": "code",
      "source": [
        "#square cuberoot"
      ],
      "metadata": {
        "id": "ip4diqZg57-v"
      },
      "execution_count": null,
      "outputs": []
    }
  ]
}